{
  "nbformat": 4,
  "nbformat_minor": 0,
  "metadata": {
    "colab": {
      "provenance": [],
      "mount_file_id": "1_6DZmbKwM6bsAik--W3P9vWeii52jNRO",
      "authorship_tag": "ABX9TyMoM9/9ntWJZ1AS2JsVtOim",
      "include_colab_link": true
    },
    "kernelspec": {
      "name": "python3",
      "display_name": "Python 3"
    },
    "language_info": {
      "name": "python"
    }
  },
  "cells": [
    {
      "cell_type": "markdown",
      "metadata": {
        "id": "view-in-github",
        "colab_type": "text"
      },
      "source": [
        "<a href=\"https://colab.research.google.com/github/nadia-maarfavi/Sentiment.Analysis/blob/main/GoogleCloudAPI.ipynb\" target=\"_parent\"><img src=\"https://colab.research.google.com/assets/colab-badge.svg\" alt=\"Open In Colab\"/></a>"
      ]
    },
    {
      "cell_type": "code",
      "source": [
        "import pandas as pd\n",
        "import re\n",
        "from google.cloud import language_v1\n",
        "import io\n",
        "import os\n",
        "from csv import writer"
      ],
      "metadata": {
        "id": "UScuHYNGI82W"
      },
      "execution_count": 19,
      "outputs": []
    },
    {
      "cell_type": "code",
      "source": [
        "os.environ[\"GOOGLE_APPLICATION_CREDENTIALS\"]= \"//Path to Jason File//\"\n",
        "client = language_v1.LanguageServiceClient()"
      ],
      "metadata": {
        "id": "Mh6E9qMmJMbl"
      },
      "execution_count": 20,
      "outputs": []
    },
    {
      "cell_type": "code",
      "source": [
        "def print_result(annotations):\n",
        "\n",
        "    score = annotations.document_sentiment.score\n",
        "    magnitude = annotations.document_sentiment.magnitude\n",
        "    print(\"Sentiment score: {}, Sentiment magnitude: {}\".format(score, magnitude))\n",
        "    return score, magnitude"
      ],
      "metadata": {
        "id": "2_txP9G6JR-d"
      },
      "execution_count": 21,
      "outputs": []
    },
    {
      "cell_type": "code",
      "source": [
        "content = \"Ok the movie seem's interesting. but that is all I'll give it this guy is just terrible at movies. him Michael Baye James Wang Roland Emmeric need to all be fired.\"\n",
        "try:\n",
        "  document = language_v1.Document(content=content, type_=language_v1.Document.Type.PLAIN_TEXT)\n",
        "  annotations = client.analyze_sentiment(request={\"document\": document})\n",
        "  reviewscore, reviewmag = print_result(annotations)\n",
        "except:\n",
        "  print(\"No result\")\n"
      ],
      "metadata": {
        "colab": {
          "base_uri": "https://localhost:8080/"
        },
        "id": "k4PAILD3JVhD",
        "outputId": "c649074b-420c-4ad2-8e7e-75e5d68ddf4d"
      },
      "execution_count": 22,
      "outputs": [
        {
          "output_type": "stream",
          "name": "stdout",
          "text": [
            "Sentiment score: -0.30000001192092896, Sentiment magnitude: 2.0999999046325684\n"
          ]
        }
      ]
    }
  ]
}